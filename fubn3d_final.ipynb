{
 "cells": [
  {
   "cell_type": "code",
   "execution_count": 1,
   "id": "67cc5390-9c17-47f4-83d6-ac6fda00dc5b",
   "metadata": {},
   "outputs": [],
   "source": [
    "import json\n",
    "import math\n",
    "from typing import List, Optional, Tuple\n",
    "import hydra\n",
    "from omegaconf import DictConfig\n",
    "from tqdm import tqdm\n",
    "import torch\n",
    "import numpy as np\n",
    "from transformers import (\n",
    "    AutoModelForCausalLM,\n",
    "    AutoModelForMaskGeneration,\n",
    "    AutoModelForZeroShotObjectDetection,\n",
    "    AutoProcessor,\n",
    "    GenerationConfig,\n",
    "    Owlv2ForObjectDetection,\n",
    "    SamModel,\n",
    "    SamProcessor,\n",
    ")\n",
    "from scipy.stats import entropy\n",
    "from torch import Tensor\n",
    "from torch.nn.functional import cosine_similarity"
   ]
  },
  {
   "cell_type": "code",
   "execution_count": 2,
   "id": "a73f5de4-91f5-4ad4-9479-80917df5dc94",
   "metadata": {},
   "outputs": [
    {
     "name": "stdout",
     "output_type": "stream",
     "text": [
      "Jupyter environment detected. Enabling Open3D WebVisualizer.\n",
      "[Open3D INFO] WebRTC GUI backend enabled.\n",
      "[Open3D INFO] WebRTCWindowSystem: HTTP handshake server disabled.\n"
     ]
    }
   ],
   "source": [
    "import ollama\n",
    "import os \n",
    "import matplotlib.pyplot as plt\n",
    "import glob\n",
    "import imageio\n",
    "import cv2\n",
    "import open3d as o3d"
   ]
  },
  {
   "cell_type": "code",
   "execution_count": 3,
   "id": "0b9445e3-3528-4401-ad83-dec2c1df151d",
   "metadata": {},
   "outputs": [],
   "source": [
    "path = \"/media/parvez/One_Touch/Scenefun3D\" \n",
    "split = \"train_val_set\""
   ]
  },
  {
   "cell_type": "code",
   "execution_count": 4,
   "id": "1fee41ed-cce3-457a-a2fb-5d181d5db80c",
   "metadata": {},
   "outputs": [],
   "source": [
    "intrinsic_file_path = \"/media/parvez/One_Touch/Scenefun3D/train_val_set/420673/42445198/hires_wide_intrinsics\"\n",
    "image_file_path = \"/media/parvez/One_Touch/Scenefun3D/train_val_set/420673/42445198/hires_wide\"\n",
    "transform_path = \"/media/parvez/One_Touch/Scenefun3D/train_val_set/420673/42445198/42445198_transform.npy\" \n",
    "pcd_file_path = \"/media/parvez/One_Touch/Scenefun3D/train_val_set/420673/420673_laser_scan.ply\"  \n",
    "crop_file_path = \"/media/parvez/One_Touch/Scenefun3D/train_val_set/420673/420673_crop_mask.npy\" \n",
    "\n",
    "intrinsic_file = sorted(os.listdir(intrinsic_file_path))[243]\n",
    "intrinsic_path = os.path.join(intrinsic_file_path, intrinsic_file)\n",
    "image_file = sorted(os.listdir(image_file_path))[243]\n",
    "image_path = os.path.join(image_file_path, image_file)\n",
    "traj_path = \"/media/parvez/One_Touch/Scenefun3D/train_val_set/420673/42445198/hires_poses.traj\""
   ]
  },
  {
   "cell_type": "code",
   "execution_count": 5,
   "id": "53e73f48-9de0-400f-a457-8b104f1ddbc7",
   "metadata": {},
   "outputs": [],
   "source": [
    "def get_data_asset_path(traj_path):\n",
    "        \"\"\"\n",
    "        Get the file path for a specified data asset.\n",
    "\n",
    "        Args:\n",
    "            data_asset_identifier (str): A string identifier for the data asset.\n",
    "            visit_id (str or int): The identifier for the visit (scene).\n",
    "            video_id (str or int, optional): The identifier for the video sequence. Required if specified data asset requires a video identifier.\n",
    "\n",
    "        Returns:\n",
    "            (Path): A Path object representing the file path to the specified data asset.\n",
    "\n",
    "        Raises:\n",
    "            AssertionError: If the `data_asset_identifier` is not valid or if `video_id` is required but not provided.\n",
    "        \"\"\"\n",
    "        assert data_asset_identifier in data_asset_to_path, f\"Data asset identifier '{data_asset_identifier}' is not valid\"\n",
    "\n",
    "        data_path = data_asset_to_path[data_asset_identifier]\n",
    "\n",
    "        if (\"<video_id>\" in data_path) and (video_id is None):\n",
    "            assert False, f\"video_id must be specified for the data asset identifier '{data_asset_identifier}'\"\n",
    "\n",
    "        visit_id = str(visit_id)\n",
    "\n",
    "        data_path = (\n",
    "            data_path\n",
    "                .replace(\"<data_dir>\", self.data_root_path)\n",
    "                .replace(\"<visit_id>\", visit_id)\n",
    "        )\n",
    "\n",
    "        if \"<video_id>\" in data_path:\n",
    "            video_id = str(video_id)\n",
    "            data_path = data_path.replace(\"<video_id>\", video_id)\n",
    "\n",
    "        return data_path\n"
   ]
  },
  {
   "cell_type": "code",
   "execution_count": 6,
   "id": "c15722eb-e0ef-47bc-b7a8-8a0aced999af",
   "metadata": {},
   "outputs": [],
   "source": [
    "def convert_angle_axis_to_matrix3(angle_axis):\n",
    "    \"\"\"\n",
    "    Converts a rotation from angle-axis representation to a 3x3 rotation matrix.\n",
    "\n",
    "    Args:\n",
    "        angle_axis (numpy.ndarray): A 3-element array representing the rotation in angle-axis form.\n",
    "\n",
    "    Returns:\n",
    "        (numpy.ndarray): A 3x3 rotation matrix representing the same rotation as the input angle-axis.\n",
    "\n",
    "    Raises:\n",
    "        ValueError: If the input is not a valid 3-element numpy array.\n",
    "    \"\"\"\n",
    "    # Check if input is a numpy array\n",
    "    if not isinstance(angle_axis, np.ndarray):\n",
    "        raise ValueError(\"Input must be a numpy array.\")\n",
    "    \n",
    "    # Check if the input is of shape (3,)\n",
    "    if angle_axis.shape != (3,):\n",
    "        raise ValueError(\"Input must be a 3-element array representing the rotation in angle-axis representation.\")\n",
    "    \n",
    "    matrix, jacobian = cv2.Rodrigues(angle_axis)\n",
    "    return matrix\n"
   ]
  },
  {
   "cell_type": "code",
   "execution_count": 7,
   "id": "4a524fc8-1ee5-47fa-908e-0b56d642ec3b",
   "metadata": {},
   "outputs": [],
   "source": [
    "def TrajStringToMatrix(traj_str):\n",
    "        \"\"\" \n",
    "        Converts a line from the camera trajectory file into translation and rotation matrices.\n",
    "\n",
    "        Args:\n",
    "            traj_str (str): A space-delimited string where each line represents a camera pose at a particular timestamp. \n",
    "                            The line consists of seven columns:\n",
    "                - Column 1: timestamp\n",
    "                - Columns 2-4: rotation (axis-angle representation in radians)\n",
    "                - Columns 5-7: translation (in meters)\n",
    "\n",
    "        Returns:\n",
    "            (tuple): A tuple containing:\n",
    "                - ts (str): Timestamp.\n",
    "                - Rt (numpy.ndarray): 4x4 transformation matrix representing rotation and translation.\n",
    "\n",
    "        Raises:\n",
    "            AssertionError: If the input string does not have exactly seven columns.\n",
    "        \"\"\"\n",
    "        tokens = traj_str.split()\n",
    "        assert len(tokens) == 7\n",
    "        ts = tokens[0]\n",
    "\n",
    "        # Rotation in angle axis\n",
    "        angle_axis = [float(tokens[1]), float(tokens[2]), float(tokens[3])]\n",
    "        r_w_to_p = convert_angle_axis_to_matrix3(np.asarray(angle_axis))\n",
    "\n",
    "        # Translation\n",
    "        t_w_to_p = np.asarray([float(tokens[4]), float(tokens[5]), float(tokens[6])])\n",
    "        extrinsics = np.eye(4, 4)\n",
    "        extrinsics[:3, :3] = r_w_to_p\n",
    "        extrinsics[:3, -1] = t_w_to_p\n",
    "        Rt = np.linalg.inv(extrinsics)\n",
    "\n",
    "        return (ts, Rt)"
   ]
  },
  {
   "cell_type": "code",
   "execution_count": 8,
   "id": "514eb95c-d740-4739-a22f-31fd76182374",
   "metadata": {},
   "outputs": [],
   "source": [
    "def get_camera_trajectory(traj_path):\n",
    "        \"\"\"\n",
    "        Retrieve the camera trajectory from a file and convert it into a dictionary whose keys are timestamps and \n",
    "        values are the corresponding camera poses.\n",
    "\n",
    "        Args:\n",
    "            visit_id (str): The identifier of the scene.\n",
    "            video_id (str): The identifier of the video sequence.\n",
    "            pose_source (str, optional): Specifies the trajectory asset type, either \"colmap\" or \"arkit\". Defaults to \"colmap\".\n",
    "\n",
    "        Returns:\n",
    "            (dict): A dictionary where keys are timestamps (rounded to 3 decimal points) and values are 4x4 transformation matrices representing camera poses.\n",
    "\n",
    "        Raises:\n",
    "            AssertionError: If an unsupported trajectory asset type is provided.\n",
    "        \"\"\"\n",
    "        #assert pose_source in [\"colmap\", \"arkit\"], f\"Unknown option {pose_source}\"\n",
    "\n",
    "        #data_asset_identifier = \"hires_poses\" if pose_source == \"colmap\" else \"lowres_poses\"\n",
    "        traj_file_path = traj_path\n",
    "        #print(\"traj_file_path = \", traj_file_path)\n",
    "\n",
    "        with open(traj_file_path) as f:\n",
    "            traj = f.readlines()\n",
    "\n",
    "        # Convert trajectory to a dictionary\n",
    "        poses_from_traj = {}\n",
    "        for line in traj:\n",
    "            traj_timestamp = line.split(\" \")[0] \n",
    "\n",
    "\n",
    "            poses_from_traj[f\"{traj_timestamp}\"] = np.array(TrajStringToMatrix(line)[1].tolist())\n",
    "            \n",
    "\n",
    "        return poses_from_traj"
   ]
  },
  {
   "cell_type": "code",
   "execution_count": 9,
   "id": "11c64797-121c-4eb7-a696-02524338af3e",
   "metadata": {},
   "outputs": [],
   "source": [
    "def get_camera_intrinsics(intrinsics_path):\n",
    "        \"\"\"\n",
    "        Retrieve the camera intrinsics for a given scene and video sequence.\n",
    "\n",
    "        Args:\n",
    "            visit_id (str): The identifier of the scene.\n",
    "            video_id (str): The identifier of the video sequence.\n",
    "            data_asset_identifier (str, optional): The data asset type for camera intrinsics.\n",
    "                                                   Can be either \"hires_wide_intrinsics\" or \"lowres_wide_intrinsics\". \n",
    "                                                   Defaults to \"hires_wide_intrinsics\".\n",
    "\n",
    "        Returns:\n",
    "            (dict): A dictionary mapping timestamps to file paths of camera intrinsics data.\n",
    "\n",
    "        Raises:\n",
    "            ValueError: If an unsupported data asset identifier is provided.\n",
    "            FileNotFoundError: If no intrinsics files are found at the specified path.\n",
    "        \"\"\"\n",
    "        intrinsics_mapping = {}\n",
    "        \n",
    "\n",
    "        intrinsics = sorted(glob.glob(os.path.join(intrinsics_path, \"*.pincam\")))\n",
    "        \n",
    "\n",
    "        intrinsics_timestamps = [os.path.basename(x).split(\".pincam\")[0].split(\"_\")[1] for x in intrinsics]\n",
    "\n",
    "        # Create mapping from timestamp to full path\n",
    "        intrinsics_mapping = {timestamp: cur_intrinsics for timestamp, cur_intrinsics in zip(intrinsics_timestamps, intrinsics)}\n",
    "\n",
    "        return intrinsics_mapping"
   ]
  },
  {
   "cell_type": "code",
   "execution_count": 10,
   "id": "930145ed-2130-434a-aea8-0c74c1a441dd",
   "metadata": {},
   "outputs": [],
   "source": [
    "def read_camera_intrinsics(intrinsics_file_path, format=\"tuple\"):\n",
    "        \"\"\"\n",
    "        Parses a file containing camera intrinsic parameters and returns them in the specified format.\n",
    "\n",
    "        Args:\n",
    "            intrinsics_file_path (str): The path to the file containing camera intrinsic parameters.\n",
    "            format (str, optional): The format in which to return the camera intrinsic parameters.\n",
    "                                    Supported formats are \"tuple\" and \"matrix\". Defaults to \"tuple\".\n",
    "\n",
    "        Returns:\n",
    "            (Union[tuple, numpy.ndarray]): Camera intrinsic parameters in the specified format.\n",
    "\n",
    "                - If format is \"tuple\", returns a tuple \\\\(w, h, fx, fy, hw, hh\\\\).\n",
    "                - If format is \"matrix\", returns a 3x3 numpy array representing the camera matrix.\n",
    "        \n",
    "        Raises:\n",
    "            ValueError: If an unsupported format is specified.\n",
    "        \"\"\"\n",
    "        w, h, fx, fy, hw, hh = np.loadtxt(intrinsics_file_path)\n",
    "\n",
    "        if format == \"tuple\":\n",
    "            return (w, h, fx, fy, hw, hh)\n",
    "        elif format == \"matrix\":\n",
    "            return np.asarray([[fx, 0, hw], [0, fy, hh], [0, 0, 1]])\n",
    "        else:\n",
    "            raise ValueError(f\"Unknown format {format}\")"
   ]
  },
  {
   "cell_type": "code",
   "execution_count": 11,
   "id": "b9b4388a-76a0-4b4a-af50-f3e0636d13a4",
   "metadata": {},
   "outputs": [],
   "source": [
    "poses_from_traj = get_camera_trajectory(traj_path)"
   ]
  },
  {
   "cell_type": "code",
   "execution_count": 12,
   "id": "484dabf7-949a-4bb3-ac82-10743521321d",
   "metadata": {},
   "outputs": [],
   "source": [
    "rgb_frame_path = \"/media/parvez/One_Touch/Scenefun3D/train_val_set/420673/42445198/hires_wide/42445198_10904.646.jpg\"\n",
    "depth_frame_path = \"/media/parvez/One_Touch/Scenefun3D/train_val_set/420673/42445198/hires_depth/42445198_10904.646.png\"\n",
    "intrinsics_path = get_camera_intrinsics(intrinsic_file_path)['10904.646']\n",
    "width, height, _, _, _, _ = read_camera_intrinsics(intrinsics_path)\n",
    "time_stamp = \"10904.646\""
   ]
  },
  {
   "cell_type": "code",
   "execution_count": null,
   "id": "05c6b033-48c1-4a40-b4eb-ad0b3cdcab47",
   "metadata": {},
   "outputs": [],
   "source": []
  },
  {
   "cell_type": "code",
   "execution_count": 13,
   "id": "542aecf7-1b3d-4685-adb9-09394cdeebd0",
   "metadata": {},
   "outputs": [],
   "source": [
    "device = torch.device(\"cuda:1\" if torch.cuda.is_available() else \"cpu\")"
   ]
  },
  {
   "cell_type": "code",
   "execution_count": 14,
   "id": "48b68724-c940-4f80-a55d-b238927b7740",
   "metadata": {},
   "outputs": [],
   "source": [
    "class DataParser:\n",
    "    \"\"\"\n",
    "    A class for parsing data files in the SceneFun3D dataset.\n",
    "    \"\"\"\n",
    "\n",
    "    def __init__(self, root, split):\n",
    "        \"\"\"\n",
    "        Initialize the DataParser instance with the root path.\n",
    "\n",
    "        Args:\n",
    "            data_root_path (str): The root path where data is located.\n",
    "        \"\"\"\n",
    "        self.root = root\n",
    "        self.split = split\n",
    "        self.data_root_path = os.path.join(root, split)\n",
    "\n",
    "\n",
    "    def get_data_asset_path(self, data_asset_identifier, visit_id, video_id=None):\n",
    "        \"\"\"\n",
    "        Get the file path for a specified data asset.\n",
    "\n",
    "        Args:\n",
    "            data_asset_identifier (str): A string identifier for the data asset.\n",
    "            visit_id (str or int): The identifier for the visit (scene).\n",
    "            video_id (str or int, optional): The identifier for the video sequence. Required if specified data asset requires a video identifier.\n",
    "\n",
    "        Returns:\n",
    "            (Path): A Path object representing the file path to the specified data asset.\n",
    "\n",
    "        Raises:\n",
    "            AssertionError: If the `data_asset_identifier` is not valid or if `video_id` is required but not provided.\n",
    "        \"\"\"\n",
    "        assert (\n",
    "            data_asset_identifier in data_asset_to_path\n",
    "        ), f\"Data asset identifier '{data_asset_identifier}' is not valid\"\n",
    "\n",
    "        data_path = data_asset_to_path[data_asset_identifier]\n",
    "\n",
    "        if (\"<video_id>\" in data_path) and (video_id is None):\n",
    "            assert (\n",
    "                False\n",
    "            ), f\"video_id must be specified for the data asset identifier '{data_asset_identifier}'\"\n",
    "\n",
    "        visit_id = str(visit_id)\n",
    "\n",
    "        data_path = data_path.replace(\"<data_dir>\", self.data_root_path).replace(\n",
    "            \"<visit_id>\", visit_id\n",
    "        )\n",
    "\n",
    "        if \"<video_id>\" in data_path:\n",
    "            video_id = str(video_id)\n",
    "            data_path = data_path.replace(\"<video_id>\", video_id)\n",
    "\n",
    "        return data_path\n",
    "    def get_descriptions(self, visit_id):\n",
    "        \"\"\"\n",
    "        Retrieve the natural language task descriptions for a specified scene.\n",
    "\n",
    "        Args:\n",
    "            visit_id (str or int): The identifier for the scene.\n",
    "\n",
    "        Returns:\n",
    "            (list): A list of descriptions, each represented as a dictionary.\n",
    "        \"\"\"\n",
    "        descriptions_path = self.get_data_asset_path(\n",
    "            data_asset_identifier=\"descriptions\", visit_id=visit_id\n",
    "        )\n",
    "\n",
    "        with open(descriptions_path, \"r\") as f:\n",
    "            descriptions_data = json.load(f)[\"descriptions\"]\n",
    "\n",
    "        return descriptions_data\n",
    "\n",
    "\n",
    "    def get_descriptions_list(self, visit_id: str):\n",
    "        \"\"\"\n",
    "        List of descriptions given a visit_id\n",
    "        \"\"\"\n",
    "\n",
    "        descs = self.get_descriptions(visit_id)\n",
    "        desc_ids = {desc[\"desc_id\"]: desc[\"description\"] for desc in descs}\n",
    "        return desc_ids\n",
    "\n",
    "\n",
    "    def get_visits(self) -> list:\n",
    "        \"\"\"\n",
    "        Given a split, returns a dict associating each visit id to the list of video ids\n",
    "        \"\"\"\n",
    "\n",
    "        with open(\n",
    "            os.path.join(f\"{self.root}/benchmark_file_lists/{self.split}_set.csv\")\n",
    "        ) as f:\n",
    "            # skip csv header\n",
    "            visit_video = f.readlines()[1:]\n",
    "\n",
    "        visits = list()\n",
    "        for line in visit_video:\n",
    "            visit_id = line.strip(\"\\n\").split(\",\")[0]\n",
    "            visits.append(visit_id)\n",
    "\n",
    "        return visits\n",
    "        \n"
   ]
  },
  {
   "cell_type": "code",
   "execution_count": 15,
   "id": "04603655-82e9-42da-8b88-3d5c885a7600",
   "metadata": {},
   "outputs": [],
   "source": [
    "def sort_alphanumeric(lst: str):\n",
    "    def sort_key(s):\n",
    "        return [\n",
    "            int(text) if text.isdigit() else text.lower()\n",
    "            for text in re.split(\"([0-9]+)\", s)\n",
    "        ]\n",
    "\n",
    "    return sorted(lst, key=sort_key)\n"
   ]
  },
  {
   "cell_type": "code",
   "execution_count": 16,
   "id": "2425eae3-ec75-4319-82ec-c80dcf7bc0fe",
   "metadata": {},
   "outputs": [],
   "source": [
    "OLLAMA_PORT = 11434"
   ]
  },
  {
   "cell_type": "code",
   "execution_count": 17,
   "id": "ad727727-fbc0-42ec-9ef7-e536ab9aed5b",
   "metadata": {},
   "outputs": [],
   "source": [
    "def get_LLM_response(statement, query):\n",
    "    client = ollama.Client(host=f\"localhost:{OLLAMA_PORT}\")\n",
    "    response = client.chat(\n",
    "        model=\"llama3.1\",\n",
    "        messages=[\n",
    "            {\n",
    "                \"role\": \"system\",\n",
    "                \"content\": \"You are an AI System that has to provide json files to a robotic system so that it can interact with our physical world, based on a natural language prompt.\\nIn particular, you have to help the robot in identify which object parts it has to interact with to solve particual tasks.\\n its set of possible actions are [rotate, key_press, tip_push, hook_pull, pinch_pull, hook_turn, foot_push, plug_in, unplug]\",\n",
    "            },\n",
    "            {\n",
    "                \"role\": \"user\",\n",
    "                \"content\": statement.format(query=query),\n",
    "            },\n",
    "        ],\n",
    "        options={\"temperature\": 0},\n",
    "    )\n",
    "\n",
    "    return response[\"message\"][\"content\"], response\n"
   ]
  },
  {
   "cell_type": "code",
   "execution_count": 18,
   "id": "908c8f07-db30-44a8-9996-ada0c59f5999",
   "metadata": {},
   "outputs": [],
   "source": [
    "def main(path, split):\n",
    "\n",
    "    statement = \"\"\"How do I adjust the room's temperature using the radiator thermostat?\n",
    "respond directly with only the json with the following format.\n",
    "{{\n",
    "\"prompt\": a string with the prompt,\n",
    "\"task_solving_sequence\": a list of strings with the description of what I have to do to accomplish the task described by the prompt, subdivided in subtasks,\n",
    "\"acted_on_object\": a string with the name of the object part on which I have to act\n",
    "\"acted_on_object_hierarchy\": a list of object parts from the top level object to the object part,\n",
    "}}\n",
    "\n",
    "\"\"\"\n",
    "    parser = DataParser(path, split)\n",
    "   \n",
    "\n",
    "    query = \"Adjust the room's temperature using the radiator thermostat\"\n",
    "    response = get_LLM_response(statement=statement, query=query) \n",
    "\n",
    "    return response[0]\n",
    "            \n"
   ]
  },
  {
   "cell_type": "code",
   "execution_count": 19,
   "id": "3d399c72-08b7-4f7f-b1c5-94d8ed198a21",
   "metadata": {},
   "outputs": [],
   "source": [
    "response = main(path=path, split=split)"
   ]
  },
  {
   "cell_type": "code",
   "execution_count": 20,
   "id": "b91fbb8e-a46a-4ace-937e-72f04aa88a59",
   "metadata": {},
   "outputs": [],
   "source": [
    "response = json.loads(response)"
   ]
  },
  {
   "cell_type": "code",
   "execution_count": 21,
   "id": "ff8dbb9b-5e27-4c43-a9f2-91c3d046409b",
   "metadata": {},
   "outputs": [
    {
     "data": {
      "text/plain": [
       "{'prompt': \"Adjust the room's temperature using the radiator thermostat\",\n",
       " 'task_solving_sequence': ['Locate the radiator thermostat',\n",
       "  'Identify the temperature control knob',\n",
       "  'Rotate the temperature control knob to adjust the temperature'],\n",
       " 'acted_on_object': 'temperature control knob',\n",
       " 'acted_on_object_hierarchy': ['radiator',\n",
       "  'thermostat',\n",
       "  'temperature control knob']}"
      ]
     },
     "execution_count": 21,
     "metadata": {},
     "output_type": "execute_result"
    }
   ],
   "source": [
    "response"
   ]
  },
  {
   "cell_type": "code",
   "execution_count": 22,
   "id": "43a5eccf-2850-416f-b997-e59004f31643",
   "metadata": {},
   "outputs": [],
   "source": [
    "parent_object = response[\"acted_on_object_hierarchy\"]"
   ]
  },
  {
   "cell_type": "code",
   "execution_count": 23,
   "id": "18547ba2-bbb6-4d0e-9285-b1dba825e725",
   "metadata": {},
   "outputs": [],
   "source": [
    "sam_model = SamModel.from_pretrained(\"jadechoghari/robustsam-vit-large\").to(device)\n",
    "sam_processor = SamProcessor.from_pretrained(\"jadechoghari/robustsam-vit-large\")\n"
   ]
  },
  {
   "cell_type": "code",
   "execution_count": 24,
   "id": "e774f9b6-34fb-482c-9f13-259fb9aa1133",
   "metadata": {},
   "outputs": [],
   "source": [
    "import requests\n",
    "from PIL import Image\n",
    "import torch\n",
    "import cv2"
   ]
  },
  {
   "cell_type": "code",
   "execution_count": 25,
   "id": "24f851a4-8d1d-4f1e-9384-0598c80b6040",
   "metadata": {},
   "outputs": [],
   "source": [
    "from transformers import Owlv2Processor, Owlv2ForObjectDetection"
   ]
  },
  {
   "cell_type": "code",
   "execution_count": 26,
   "id": "e20d53c9-0c9a-4fb8-9aba-ac4cb7bdfbaa",
   "metadata": {},
   "outputs": [
    {
     "name": "stderr",
     "output_type": "stream",
     "text": [
      "Using a slow image processor as `use_fast` is unset and a slow processor was saved with this model. `use_fast=True` will be the default behavior in v4.52, even if the model was saved with a slow processor. This will result in minor differences in outputs. You'll still be able to use a slow processor with `use_fast=False`.\n"
     ]
    }
   ],
   "source": [
    "owl_processor = Owlv2Processor.from_pretrained(\"google/owlv2-base-patch16-ensemble\")\n",
    "owl_model = Owlv2ForObjectDetection.from_pretrained(\"google/owlv2-base-patch16-ensemble\")"
   ]
  },
  {
   "cell_type": "code",
   "execution_count": 27,
   "id": "c4ecbaa5-020c-4cbc-bab1-88d42d6d819a",
   "metadata": {},
   "outputs": [],
   "source": [
    "image_path = rgb_frame_path"
   ]
  },
  {
   "cell_type": "code",
   "execution_count": 28,
   "id": "f8e5b982-108f-4355-afc7-aa027e3164e5",
   "metadata": {},
   "outputs": [],
   "source": [
    "image = cv2.imread(image_path)\n",
    "text_labels = [parent_object]\n",
    "inputs = owl_processor(text=text_labels, images=image, return_tensors=\"pt\")\n",
    "outputs = owl_model(**inputs)\n"
   ]
  },
  {
   "cell_type": "code",
   "execution_count": 29,
   "id": "1d0d7e54-7188-44bb-9e4e-ea29decaf94c",
   "metadata": {},
   "outputs": [],
   "source": [
    "#outputs"
   ]
  },
  {
   "cell_type": "code",
   "execution_count": 30,
   "id": "05570712-4e61-4d0b-8a2e-2b3514733da0",
   "metadata": {},
   "outputs": [],
   "source": [
    "H, W , _ = image.shape"
   ]
  },
  {
   "cell_type": "code",
   "execution_count": 31,
   "id": "2109c44b-a251-4a71-84a9-00cbfa0a4f39",
   "metadata": {},
   "outputs": [],
   "source": [
    "# Target image sizes (height, width) to rescale box predictions [batch_size, 2]\n",
    "target_sizes = torch.tensor([(H, W)])\n",
    "# Convert outputs (bounding boxes and class logits) to Pascal VOC format (xmin, ymin, xmax, ymax)\n",
    "results = owl_processor.post_process_grounded_object_detection(\n",
    "    outputs=outputs, target_sizes=target_sizes, threshold=0.1, text_labels=text_labels\n",
    ")"
   ]
  },
  {
   "cell_type": "code",
   "execution_count": 32,
   "id": "366704ac-3b8e-4692-a1ca-06b945ed786d",
   "metadata": {},
   "outputs": [],
   "source": [
    "# Retrieve predictions for the first image for the corresponding text queries\n",
    "result = results[0]\n",
    "boxes, scores, text_labels = result[\"boxes\"], result[\"scores\"], result[\"text_labels\"]"
   ]
  },
  {
   "cell_type": "code",
   "execution_count": 33,
   "id": "698ed294-dd0a-468a-8eb6-7aca9663c449",
   "metadata": {},
   "outputs": [
    {
     "data": {
      "text/plain": [
       "tensor([[ 1.8117e+03, -3.3676e-01,  1.8618e+03,  2.9077e+01],\n",
       "        [ 8.2128e+02,  6.3764e+02,  8.4435e+02,  6.8429e+02],\n",
       "        [ 1.5998e+00,  3.7068e+02,  8.2636e+02,  9.1892e+02]],\n",
       "       grad_fn=<IndexBackward0>)"
      ]
     },
     "execution_count": 33,
     "metadata": {},
     "output_type": "execute_result"
    }
   ],
   "source": [
    "boxes"
   ]
  },
  {
   "cell_type": "code",
   "execution_count": 34,
   "id": "e645573f-33ee-4f66-a892-7b4a83904012",
   "metadata": {},
   "outputs": [
    {
     "data": {
      "text/plain": [
       "tensor([0.1352, 0.1020, 0.8591], grad_fn=<IndexBackward0>)"
      ]
     },
     "execution_count": 34,
     "metadata": {},
     "output_type": "execute_result"
    }
   ],
   "source": [
    "scores"
   ]
  },
  {
   "cell_type": "code",
   "execution_count": 35,
   "id": "2f70dcc5-02ee-4cc5-864d-dc989a9b7896",
   "metadata": {},
   "outputs": [
    {
     "data": {
      "text/plain": [
       "['thermostat', 'temperature control knob', 'radiator']"
      ]
     },
     "execution_count": 35,
     "metadata": {},
     "output_type": "execute_result"
    }
   ],
   "source": [
    "text_labels"
   ]
  },
  {
   "cell_type": "code",
   "execution_count": 36,
   "id": "23b008e3-1114-45ea-8a09-4ad4a4de443b",
   "metadata": {},
   "outputs": [
    {
     "name": "stdout",
     "output_type": "stream",
     "text": [
      "Detected thermostat with confidence 0.135 at location [1811.7, -0.34, 1861.79, 29.08]\n",
      "Detected temperature control knob with confidence 0.102 at location [821.28, 637.64, 844.35, 684.29]\n",
      "Detected radiator with confidence 0.859 at location [1.6, 370.68, 826.36, 918.92]\n"
     ]
    }
   ],
   "source": [
    "for box, score, text_label in zip(boxes, scores, text_labels):\n",
    "    #print(box)\n",
    "    box = [round(i, 2) for i in box.tolist()]\n",
    "    print(f\"Detected {text_label} with confidence {round(score.item(), 3)} at location {box}\")"
   ]
  },
  {
   "cell_type": "code",
   "execution_count": null,
   "id": "97b072ee-15f8-4389-b8b1-7434a9660d44",
   "metadata": {},
   "outputs": [],
   "source": []
  },
  {
   "cell_type": "code",
   "execution_count": 37,
   "id": "901d4c6e-facd-48ca-b0da-4c1f257901ad",
   "metadata": {},
   "outputs": [],
   "source": [
    "def get_image_polar_coords(shape: Tuple[int, int]) -> Tuple[np.ndarray, np.ndarray]:\n",
    "    \"\"\"\n",
    "    Make polar coordinates mask with a fixed size\n",
    "    \"\"\"\n",
    "    h, w = shape\n",
    "    xs, ys = np.meshgrid(np.arange(0, w, 1), np.arange(0, h, 1))\n",
    "    xs = (xs - int(w / 2)) / (w / 2)\n",
    "    ys = (ys - int(h / 2)) / (h / 2)\n",
    "\n",
    "    arctans = np.arctan2(ys, xs)\n",
    "    module = np.sqrt(np.power(xs, 2) + np.power(ys, 2))\n",
    "\n",
    "    return torch.tensor(module), torch.tensor(arctans)\n",
    "\n",
    "\n",
    "M_1920_1440, A_1920_1440 = get_image_polar_coords((1920, 1440))\n",
    "M_1440_1920, A_1440_1920 = get_image_polar_coords((1440, 1920))\n",
    "\n",
    "\n",
    "def get_mask_score(mask: np.ndarray, n_bins: Optional[int] = 30) -> Tuple[float, float]:\n",
    "    \"\"\"\n",
    "    Compute polar coordinate score for the mask\n",
    "    \"\"\"\n",
    "    if mask.shape == (1920, 1440):\n",
    "        module, arctans = M_1920_1440, A_1920_1440\n",
    "    elif mask.shape == (1440, 1920):\n",
    "        module, arctans = M_1440_1920, A_1440_1920\n",
    "    else:\n",
    "        print(\"Must compute for shape \", mask.shape)\n",
    "        module, arctans = get_image_polar_coords(mask.shape)\n",
    "\n",
    "    if torch.count_nonzero(mask) > 0:\n",
    "\n",
    "        m_arctans = arctans[mask == 1]\n",
    "        m_mod = module[mask == 1]\n",
    "\n",
    "        hist_arc, _ = torch.histogram(\n",
    "            m_arctans, bins=n_bins, range=(-torch.pi, torch.pi)\n",
    "        )\n",
    "        hist_mod, bins_mod = torch.histogram(\n",
    "            m_mod, bins=n_bins, range=(0, math.sqrt(2))\n",
    "        )\n",
    "        arc_dist = torch.ones(n_bins)\n",
    "\n",
    "        mod_dist = torch.zeros(n_bins)\n",
    "        max_mod = torch.max(m_mod)\n",
    "        max_bin = torch.min(torch.nonzero(max_mod <= bins_mod)[:, 0])\n",
    "        # get the bin before that, if it isnt the last\n",
    "        mod_dist[0:max_bin] = 1\n",
    "        arc_score = entropy(hist_arc, arc_dist)\n",
    "        mod_score = entropy(hist_mod, mod_dist)\n",
    "    else:\n",
    "        arc_score, mod_score = 0.0, 0.0\n",
    "\n",
    "    return arc_score, mod_score\n",
    "\n",
    "    \n"
   ]
  },
  {
   "cell_type": "code",
   "execution_count": 38,
   "id": "6295d011-9748-4fc8-b37a-6d39fa809eca",
   "metadata": {},
   "outputs": [],
   "source": [
    "bb_boxes_list = [] \n",
    "boxes = boxes.detach().numpy()\n",
    "for bb in boxes:\n",
    "    bb_boxes_list.append(list(bb))"
   ]
  },
  {
   "cell_type": "code",
   "execution_count": 39,
   "id": "afb9c332-7d6c-4fd0-8927-03c09fb3c708",
   "metadata": {},
   "outputs": [],
   "source": [
    "from PIL import Image\n",
    "import requests\n",
    "from transformers import SamModel, SamProcessor\n",
    "\n",
    "model = SamModel.from_pretrained(\"facebook/sam-vit-base\").to(\"cuda\")\n",
    "processor = SamProcessor.from_pretrained(\"facebook/sam-vit-base\")\n",
    "\n",
    "\n",
    "input_boxes = [bb_boxes_list] # 2D localization of a window"
   ]
  },
  {
   "cell_type": "code",
   "execution_count": 40,
   "id": "19a40d67-cb82-4868-b929-b9b0e42632b4",
   "metadata": {},
   "outputs": [],
   "source": [
    "inputs = processor(image, input_boxes=input_boxes, return_tensors=\"pt\").to(\"cuda\")\n",
    "outputs = model(**inputs)"
   ]
  },
  {
   "cell_type": "code",
   "execution_count": null,
   "id": "038e12a2-e89c-4b75-8294-a7c195f46c89",
   "metadata": {},
   "outputs": [],
   "source": []
  },
  {
   "cell_type": "code",
   "execution_count": 41,
   "id": "dab35a98-8dbb-41b6-84ce-032767b5da06",
   "metadata": {},
   "outputs": [],
   "source": [
    "masks = processor.image_processor.post_process_masks(outputs.pred_masks.cpu(), inputs[\"original_sizes\"].cpu(), inputs[\"reshaped_input_sizes\"].cpu())\n",
    "scores = outputs.iou_scores"
   ]
  },
  {
   "cell_type": "code",
   "execution_count": 42,
   "id": "3caa6c1d-c2dd-4966-ae71-d95cbca6b448",
   "metadata": {},
   "outputs": [],
   "source": [
    "#mask_obj = masks[0][2].numpy()\n",
    "#C, H, W = mask_obj.shape\n",
    "#mask_obj = np.reshape(mask_obj, (H, W, C))"
   ]
  },
  {
   "cell_type": "code",
   "execution_count": null,
   "id": "b9d513d3-4b9a-4b48-ad8d-0960fa187d4e",
   "metadata": {},
   "outputs": [],
   "source": []
  },
  {
   "cell_type": "code",
   "execution_count": 43,
   "id": "87d5eb87-c4d4-4c11-89e1-8fe21f831830",
   "metadata": {},
   "outputs": [
    {
     "data": {
      "text/plain": [
       "tensor([[[0.9313, 0.9366, 0.9241],\n",
       "         [0.9382, 0.9454, 0.9377],\n",
       "         [0.9749, 0.9910, 0.9064]]], device='cuda:0', grad_fn=<SliceBackward0>)"
      ]
     },
     "execution_count": 43,
     "metadata": {},
     "output_type": "execute_result"
    }
   ],
   "source": [
    "scores"
   ]
  },
  {
   "cell_type": "code",
   "execution_count": null,
   "id": "9b242c3b-51d6-4981-b35c-b04ce2859cc5",
   "metadata": {},
   "outputs": [],
   "source": []
  },
  {
   "cell_type": "code",
   "execution_count": 44,
   "id": "185fe3a9-1ed9-401b-9a63-7e43cf1d9c79",
   "metadata": {},
   "outputs": [],
   "source": [
    "pose = poses_from_traj[time_stamp]"
   ]
  },
  {
   "cell_type": "code",
   "execution_count": 45,
   "id": "1323a3dc-a85c-44b2-8cd9-25cc499dd25f",
   "metadata": {},
   "outputs": [],
   "source": [
    "def read_depth_frame(depth_frame_path, conversion_factor=1000):\n",
    "        \"\"\"\n",
    "        Read a depth frame from the specified path and convert it to depth values.\n",
    "\n",
    "        Args:\n",
    "            depth_frame_path (str): The full path to the depth frame file.\n",
    "            conversion_factor (float, optional): The conversion factor to convert pixel values to depth values. Defaults to 1000 to convert millimeters to meters.\n",
    "\n",
    "        Returns:\n",
    "            (numpy.ndarray): The depth frame as a NumPy array with the depth values.\n",
    "        \"\"\"\n",
    "\n",
    "        depth = imageio.v2.imread(depth_frame_path) / conversion_factor\n",
    "\n",
    "        return depth\n"
   ]
  },
  {
   "cell_type": "code",
   "execution_count": 46,
   "id": "7b1d49b7-6eaf-4ba9-9eb3-61958720177d",
   "metadata": {},
   "outputs": [],
   "source": [
    "color = cv2.imread(rgb_frame_path)\n",
    "depth = read_depth_frame(depth_frame_path)\n",
    "intrinsic = read_camera_intrinsics(intrinsics_path, format=\"matrix\")"
   ]
  },
  {
   "cell_type": "code",
   "execution_count": 47,
   "id": "b675b602-4647-4b6f-a7df-609501fb2663",
   "metadata": {},
   "outputs": [
    {
     "data": {
      "text/plain": [
       "array([[1.58614e+03, 0.00000e+00, 9.51658e+02],\n",
       "       [0.00000e+00, 1.58614e+03, 7.22847e+02],\n",
       "       [0.00000e+00, 0.00000e+00, 1.00000e+00]])"
      ]
     },
     "execution_count": 47,
     "metadata": {},
     "output_type": "execute_result"
    }
   ],
   "source": [
    "intrinsic"
   ]
  },
  {
   "cell_type": "code",
   "execution_count": 48,
   "id": "d12b0550-ea7d-43af-a36b-ace2a35b21c1",
   "metadata": {},
   "outputs": [
    {
     "data": {
      "text/plain": [
       "(1440, 1920, 3)"
      ]
     },
     "execution_count": 48,
     "metadata": {},
     "output_type": "execute_result"
    }
   ],
   "source": [
    "color.shape"
   ]
  },
  {
   "cell_type": "code",
   "execution_count": 49,
   "id": "3a5275f1-2672-47a5-b581-220dfee3125f",
   "metadata": {},
   "outputs": [
    {
     "data": {
      "text/plain": [
       "(1440, 1920)"
      ]
     },
     "execution_count": 49,
     "metadata": {},
     "output_type": "execute_result"
    }
   ],
   "source": [
    "depth.shape"
   ]
  },
  {
   "cell_type": "code",
   "execution_count": 50,
   "id": "d9448762-949a-4521-9c8c-66677f69994e",
   "metadata": {},
   "outputs": [
    {
     "data": {
      "text/plain": [
       "array([[-9.93899058e-01,  6.76734645e-02, -8.70917085e-02,\n",
       "        -6.84857986e-01],\n",
       "       [ 1.05157806e-01,  3.43285310e-01, -9.33325791e-01,\n",
       "        -2.80315536e+00],\n",
       "       [-3.32640856e-02, -9.36789997e-01, -3.48307339e-01,\n",
       "         3.93821489e+02],\n",
       "       [ 0.00000000e+00,  0.00000000e+00,  0.00000000e+00,\n",
       "         1.00000000e+00]])"
      ]
     },
     "execution_count": 50,
     "metadata": {},
     "output_type": "execute_result"
    }
   ],
   "source": [
    "pose"
   ]
  },
  {
   "cell_type": "code",
   "execution_count": null,
   "id": "75177d82-cdbf-4db1-bad5-935e1a2f2fec",
   "metadata": {},
   "outputs": [],
   "source": []
  },
  {
   "cell_type": "code",
   "execution_count": 51,
   "id": "74bb0b44-579f-4ad7-9bcf-42882083fc01",
   "metadata": {},
   "outputs": [],
   "source": [
    "def compute_mapping(camera_to_world, coords, depth, intrinsic, image_dim, cut_bound, vis_thres):\n",
    "        \"\"\"\n",
    "        :param camera_to_world: 4 x 4\n",
    "        :param coords: N x 3 format\n",
    "        :param depth: H x W format\n",
    "        :param intrinsic: 3 x 3 format\n",
    "        :return: mapping, N x 3 format, (H, W, mask)\n",
    "        \"\"\"\n",
    "\n",
    "        #print(\"coord =\", coords.shape)\n",
    "        coords_new = np.concatenate([coords, np.ones([coords.shape[0], 1])], axis=1).T \n",
    "        #print(\"coord_new = \", coords_new.shape)\n",
    "        assert coords_new.shape[0] == 4, \"[!] Shape error\"\n",
    "\n",
    "        world_to_camera = np.linalg.inv(camera_to_world)\n",
    "        \n",
    "        p = np.matmul(world_to_camera, coords_new) \n",
    "        #print(\"p=\", p[:, 0])\n",
    "        p[0] = (p[0] * intrinsic[0][0]) / p[2] + intrinsic[0][2]\n",
    "        p[1] = (p[1] * intrinsic[1][1]) / p[2] + intrinsic[1][2]\n",
    "        pi = np.round(p).astype(int) # simply round the projected coordinates\n",
    "        inside_mask = (pi[0] >= cut_bound) * (pi[1] >= cut_bound) \\\n",
    "                    * (pi[0] < image_dim[0]-cut_bound) \\\n",
    "                    * (pi[1] < image_dim[1]-cut_bound)\n",
    "\n",
    "\n",
    "        \n",
    "         \n",
    "        #print(\"inside_mask=\", inside_mask.shape)\n",
    "        if depth is not None:\n",
    "          depth_cur = depth[pi[1][inside_mask], pi[0][inside_mask]]\n",
    "          #print(\"depth_cur=\", depth_cur.shape)\n",
    "          occlusion_mask = np.abs(depth_cur - p[2][inside_mask]) <= vis_thres * depth_cur \n",
    "          #print(\"occlusion_maks=\", occlusion_mask.shape) \n",
    "          inside_mask[inside_mask] = occlusion_mask\n",
    "        else:\n",
    "          front_mask = p[2] > 0 # make sure the depth is in front\n",
    "          inside_mask = front_mask * inside_mask\n",
    "\n",
    "        mapping = np.zeros((3, coords.shape[0]), dtype=int)\n",
    "        mapping[0][inside_mask] = pi[1][inside_mask]\n",
    "        mapping[1][inside_mask] = pi[0][inside_mask]\n",
    "        mapping[2][inside_mask] = 1\n",
    "\n",
    "\n",
    "        return mapping.T\n",
    "\n"
   ]
  },
  {
   "cell_type": "code",
   "execution_count": null,
   "id": "5d7e8c7f-3f66-4b7a-8f59-f25eb12673e3",
   "metadata": {},
   "outputs": [],
   "source": []
  },
  {
   "cell_type": "code",
   "execution_count": 52,
   "id": "ca829b6d-a57a-49a1-bc02-c593b27ac281",
   "metadata": {},
   "outputs": [],
   "source": [
    "# read the pcd file \n",
    "pcd = o3d.io.read_point_cloud(pcd_file_path) \n",
    "points = np.asarray(pcd.points)\n",
    "colors = np.asarray(pcd.colors) \n",
    "\n",
    "# read the crop index file to crop the noisy points \n",
    "crop_index = np.load(crop_file_path) \n",
    "\n",
    "point_positions = points[crop_index]\n",
    "points_colors = colors[crop_index]\n",
    "num_points = point_positions.shape[0]"
   ]
  },
  {
   "cell_type": "code",
   "execution_count": 53,
   "id": "e91b5244-35c9-468e-9ffe-eb38763e7a31",
   "metadata": {},
   "outputs": [
    {
     "data": {
      "text/plain": [
       "(6010016, 3)"
      ]
     },
     "execution_count": 53,
     "metadata": {},
     "output_type": "execute_result"
    }
   ],
   "source": [
    "point_positions.shape"
   ]
  },
  {
   "cell_type": "code",
   "execution_count": null,
   "id": "fdcfb75d-9d4b-4dda-bd8a-18bdd9368456",
   "metadata": {},
   "outputs": [],
   "source": []
  },
  {
   "cell_type": "code",
   "execution_count": 54,
   "id": "7530eb8b-a3ac-4d9a-8763-4b3610a5c777",
   "metadata": {},
   "outputs": [],
   "source": [
    "# compute the 3D-2D mapping based on the depth\n",
    "mapping = np.ones([num_points, 4], dtype=int) \n",
    "mapping[:, 1:4] = compute_mapping(camera_to_world=pose, coords=point_positions, depth=depth, \n",
    "                                  intrinsic=intrinsic, image_dim=(width,height), cut_bound=5, vis_thres=0.25) \n"
   ]
  },
  {
   "cell_type": "code",
   "execution_count": 55,
   "id": "6bf13200-834e-4054-a9c2-30610c7c9922",
   "metadata": {},
   "outputs": [],
   "source": [
    "points_mask = mapping[:, 3]\n",
    "valid_point_mask = points_mask != 0 "
   ]
  },
  {
   "cell_type": "code",
   "execution_count": 56,
   "id": "af44da36-a925-49b5-b87e-56d3543f8423",
   "metadata": {},
   "outputs": [],
   "source": [
    "def compute_masked_mapping(\n",
    "        camera_to_world, coords, mask, depth, intrinsic, image_dim, cut_bound, vis_thres, device\n",
    "    ):\n",
    "        \"\"\"\n",
    "        :param camera_to_world: 4 x 4\n",
    "        :param coords: N x 3 format\n",
    "        :param depth: H x W format\n",
    "        :param intrinsic: 3x3 format\n",
    "        :return: mapping, N x 3 format, (H,W,mask)\n",
    "        \"\"\"\n",
    "        depth = torch.tensor(depth).to(device)\n",
    "        mask = torch.tensor(mask).to(device)\n",
    "        intrinsic = torch.tensor(intrinsic).to(device)\n",
    "        coords = torch.tensor(coords).to(device)\n",
    "        mapping = torch.zeros((3, coords.shape[0]), dtype=torch.int).to(device)\n",
    "        coords_new = torch.cat(\n",
    "            [coords, torch.ones([coords.shape[0], 1]).to(device)], dim=1\n",
    "        ).transpose(1, 0)\n",
    "        assert coords_new.shape[0] == 4, \"[!] Shape error\"\n",
    "\n",
    "        world_to_camera = torch.tensor(np.linalg.inv(camera_to_world)).to(device)\n",
    "        p = torch.matmul(world_to_camera, coords_new)\n",
    "        p[0] = (p[0] * intrinsic[0][0]) / p[2] + intrinsic[0][2]\n",
    "        p[1] = (p[1] * intrinsic[1][1]) / p[2] + intrinsic[1][2]\n",
    "        pi = torch.round(p).to(torch.int)  # simply round the projected coordinates\n",
    "        inside_mask = (\n",
    "            (pi[0] >= cut_bound)\n",
    "            * (pi[1] >= cut_bound)\n",
    "            * (pi[0] < image_dim[0] - cut_bound)\n",
    "            * (pi[1] < image_dim[1] - cut_bound)\n",
    "        )\n",
    "\n",
    "        _depth = depth.clone() \n",
    "        _depth = torch.where(mask != 1, 0, _depth)\n",
    "\n",
    "        # Suppose depth is your 2D NumPy array\n",
    "        #plt.figure(figsize=(8, 6))\n",
    "        #plt.imshow(_depth.cpu().numpy(), cmap='plasma')  # 'plasma', 'viridis', or 'gray' are good for depth\n",
    "        #plt.colorbar(label=\"Depth Value\")\n",
    "        #plt.title(\"Depth Image\")\n",
    "        #plt.show()\n",
    "    \n",
    "        depth_cur = _depth[pi[1][inside_mask], pi[0][inside_mask]]\n",
    "        occlusion_mask = (\n",
    "            torch.abs(depth[pi[1][inside_mask], pi[0][inside_mask]] - p[2][inside_mask])\n",
    "            <= vis_thres * depth_cur\n",
    "        )\n",
    "\n",
    "        inside_mask[inside_mask == True] = occlusion_mask\n",
    "\n",
    "        mapping[0][inside_mask] = pi[1][inside_mask]\n",
    "        mapping[1][inside_mask] = pi[0][inside_mask]\n",
    "        mapping[2][inside_mask] = 1\n",
    "\n",
    "        return mapping.transpose(1, 0).cpu().numpy()"
   ]
  },
  {
   "cell_type": "code",
   "execution_count": 57,
   "id": "71c81668-b602-43d5-bf87-a4ed0960eb94",
   "metadata": {},
   "outputs": [],
   "source": [
    "mask_obj = masks[0][1][0].numpy()\n",
    "mask = mask_obj"
   ]
  },
  {
   "cell_type": "code",
   "execution_count": 58,
   "id": "878b3b6a-81cf-498b-82c2-15f616b9fdb1",
   "metadata": {},
   "outputs": [
    {
     "data": {
      "image/png": "[encoded data removed]",
      "text/plain": [
       "<Figure size 800x600 with 2 Axes>"
      ]
     },
     "metadata": {},
     "output_type": "display_data"
    }
   ],
   "source": [
    "# Suppose depth is your 2D NumPy array\n",
    "plt.figure(figsize=(8, 6))\n",
    "plt.imshow(mask, cmap='plasma')  # 'plasma', 'viridis', or 'gray' are good for depth\n",
    "plt.colorbar(label=\"Depth Value\")\n",
    "plt.title(\"Depth Image\")\n",
    "plt.show()"
   ]
  },
  {
   "cell_type": "code",
   "execution_count": 59,
   "id": "0b818f4b-a99b-44e4-8b6d-ffc82e0d19ce",
   "metadata": {},
   "outputs": [],
   "source": [
    "# compute the 3D-2D mapping based on the depth\n",
    "mapping_seg = np.ones([num_points, 4], dtype=int) \n",
    "mapping_seg[:, 1:4] = compute_masked_mapping(camera_to_world=pose, coords=point_positions, mask=mask,  depth=depth, \n",
    "                                  intrinsic=intrinsic, image_dim=(width,height), cut_bound=5, vis_thres=0.25, device=device) \n",
    "\n"
   ]
  },
  {
   "cell_type": "code",
   "execution_count": 60,
   "id": "15cc467e-695b-47f5-9ea4-64cc99b2b7ad",
   "metadata": {},
   "outputs": [],
   "source": [
    "points_mask_seg = mapping_seg[:, 3]\n",
    "valid_point_mask_seg = points_mask_seg != 0 "
   ]
  },
  {
   "cell_type": "code",
   "execution_count": null,
   "id": "4ccc61a9-b34e-439c-bf37-cd5329e36f4e",
   "metadata": {},
   "outputs": [],
   "source": []
  },
  {
   "cell_type": "code",
   "execution_count": 61,
   "id": "f3bb97a7-c1f0-41bc-bba9-c84ced58e203",
   "metadata": {},
   "outputs": [
    {
     "data": {
      "text/plain": [
       "(1440, 1920)"
      ]
     },
     "execution_count": 61,
     "metadata": {},
     "output_type": "execute_result"
    }
   ],
   "source": [
    "mask_obj.shape"
   ]
  },
  {
   "cell_type": "code",
   "execution_count": 62,
   "id": "020f0b16-f4d6-428d-94b6-5a923ffe178e",
   "metadata": {},
   "outputs": [],
   "source": [
    "final_point_mask = np.logical_and(valid_point_mask, valid_point_mask_seg)"
   ]
  },
  {
   "cell_type": "code",
   "execution_count": 63,
   "id": "94392449-b641-4fc5-adbb-0fceba0bd91c",
   "metadata": {},
   "outputs": [],
   "source": [
    "points_colors[valid_point_mask_seg] = [0,1,0]"
   ]
  },
  {
   "cell_type": "code",
   "execution_count": 64,
   "id": "90e1ff80-dd4e-42dc-adbc-d37be96c8fd2",
   "metadata": {},
   "outputs": [
    {
     "data": {
      "text/plain": [
       "array([False, False, False, ..., False, False, False])"
      ]
     },
     "execution_count": 64,
     "metadata": {},
     "output_type": "execute_result"
    }
   ],
   "source": [
    "valid_point_mask_seg"
   ]
  },
  {
   "cell_type": "code",
   "execution_count": 65,
   "id": "5c77d7bb-980e-4c06-b9a5-e2cbe274541c",
   "metadata": {},
   "outputs": [],
   "source": [
    "pcd = o3d.geometry.PointCloud()\n",
    "pcd.points = o3d.utility.Vector3dVector(point_positions)\n",
    "pcd.colors = o3d.utility.Vector3dVector(points_colors)"
   ]
  },
  {
   "cell_type": "code",
   "execution_count": null,
   "id": "1bebe8fe-1262-4739-b1eb-99f02f3cccf6",
   "metadata": {},
   "outputs": [],
   "source": [
    "o3d.visualization.draw_geometries([pcd],\n",
    "                                  )"
   ]
  },
  {
   "cell_type": "code",
   "execution_count": null,
   "id": "a549a53b-faa0-4789-afef-71fe48212797",
   "metadata": {},
   "outputs": [],
   "source": []
  },
  {
   "cell_type": "code",
   "execution_count": null,
   "id": "0b979f78-8b38-4319-a884-028717d5ed6a",
   "metadata": {},
   "outputs": [],
   "source": []
  },
  {
   "cell_type": "code",
   "execution_count": 153,
   "id": "21769e52-81fd-4c99-bb9a-e6fc839f7662",
   "metadata": {},
   "outputs": [],
   "source": [
    "import matplotlib.pyplot as plt\n",
    "from PIL import Image\n",
    "import numpy as np\n"
   ]
  },
  {
   "cell_type": "code",
   "execution_count": 154,
   "id": "c8df5d97-f23e-4555-a3d2-63458f965e38",
   "metadata": {},
   "outputs": [],
   "source": [
    "def show_mask(mask, ax, random_color=False):\n",
    "    if random_color:\n",
    "        color = np.concatenate([np.random.random(3), np.array([0.6])], axis=0)\n",
    "    else:\n",
    "        color = np.array([30 / 255, 144 / 255, 255 / 255, 0.6])\n",
    "    h, w = mask.shape[-2:]\n",
    "    print(color.reshape(1, 1, -1).shape, mask.reshape(h, w, 1).shape) \n",
    "    mask_image = mask.reshape(h, w, 1) * color.reshape(1, 1, -1) \n",
    "    print(mask[np.nonzero(mask)[0]])\n",
    "    plt.imshow(mask_image)\n",
    "    \n",
    "    ax.imshow(mask_image)"
   ]
  },
  {
   "cell_type": "code",
   "execution_count": null,
   "id": "64c90e89-e6f6-4ce0-8a86-9eeffb9b4e95",
   "metadata": {},
   "outputs": [],
   "source": []
  },
  {
   "cell_type": "code",
   "execution_count": 158,
   "id": "725e660c-3207-4575-b48d-e1998028c06a",
   "metadata": {},
   "outputs": [
    {
     "data": {
      "image/png": "[encoded data removed]",
      "text/plain": [
       "<Figure size 640x480 with 1 Axes>"
      ]
     },
     "metadata": {},
     "output_type": "display_data"
    }
   ],
   "source": [
    "plt.imshow(np.array(image))\n",
    "ax = plt.gca()\n",
    "for i in range(1):\n",
    "    #print(mask.shape)\n",
    "    mask = masks[0][2][0]\n",
    "    plt.imshow(mask)\n",
    "    \n",
    "    ax.imshow(mask)\n",
    "    #show_mask(mask, ax=ax, random_color=False)\n",
    "plt.axis(\"off\")\n",
    "plt.show()"
   ]
  },
  {
   "cell_type": "code",
   "execution_count": 75,
   "id": "5b78b346-4d08-435a-b3e3-a83dce695f0f",
   "metadata": {},
   "outputs": [
    {
     "data": {
      "text/plain": [
       "torch.Size([3, 1440, 1920])"
      ]
     },
     "execution_count": 75,
     "metadata": {},
     "output_type": "execute_result"
    }
   ],
   "source": [
    "masks[0][1].shape"
   ]
  },
  {
   "cell_type": "code",
   "execution_count": 40,
   "id": "cefa624a-6b45-4574-a7be-192e8aeda2e7",
   "metadata": {},
   "outputs": [],
   "source": [
    "angle_scores, mod_scores = get_mask_score(mask)\n"
   ]
  },
  {
   "cell_type": "code",
   "execution_count": 41,
   "id": "20514f5c-2554-4d49-b1f4-773f421e1880",
   "metadata": {},
   "outputs": [
    {
     "data": {
      "text/plain": [
       "3.233478841304535"
      ]
     },
     "execution_count": 41,
     "metadata": {},
     "output_type": "execute_result"
    }
   ],
   "source": [
    "angle_scores"
   ]
  },
  {
   "cell_type": "code",
   "execution_count": 42,
   "id": "d91c0474-b315-40a8-afe8-f5613136bc3b",
   "metadata": {},
   "outputs": [
    {
     "data": {
      "text/plain": [
       "3.36561552161389"
      ]
     },
     "execution_count": 42,
     "metadata": {},
     "output_type": "execute_result"
    }
   ],
   "source": [
    "mod_scores"
   ]
  },
  {
   "cell_type": "code",
   "execution_count": 43,
   "id": "e7a08c2b-92b2-4ccd-9c0a-80be7073245e",
   "metadata": {},
   "outputs": [],
   "source": [
    "mask = masks[0][0][1]"
   ]
  },
  {
   "cell_type": "code",
   "execution_count": 44,
   "id": "fc958a4d-779a-4c9b-964d-4394f802b3c0",
   "metadata": {},
   "outputs": [
    {
     "data": {
      "text/plain": [
       "torch.Size([1440, 1920])"
      ]
     },
     "execution_count": 44,
     "metadata": {},
     "output_type": "execute_result"
    }
   ],
   "source": [
    "mask.shape"
   ]
  },
  {
   "cell_type": "code",
   "execution_count": 172,
   "id": "aadd9132-9354-4b4a-baa9-389f8dc6b5e3",
   "metadata": {},
   "outputs": [
    {
     "data": {
      "text/plain": [
       "(3, 1440, 1920)"
      ]
     },
     "execution_count": 172,
     "metadata": {},
     "output_type": "execute_result"
    }
   ],
   "source": [
    "masks[0][2].numpy().shape\n"
   ]
  },
  {
   "cell_type": "code",
   "execution_count": null,
   "id": "fb5571d5-7e62-4906-88c8-cecdceb61aaa",
   "metadata": {},
   "outputs": [],
   "source": []
  },
  {
   "cell_type": "code",
   "execution_count": 169,
   "id": "d11fcb0a-97e8-4493-80cf-8f29cbeb3612",
   "metadata": {},
   "outputs": [],
   "source": [
    "def convert_angle_axis_to_matrix3(angle_axis):\n",
    "    \"\"\"\n",
    "    Converts a rotation from angle-axis representation to a 3x3 rotation matrix.\n",
    "\n",
    "    Args:\n",
    "        angle_axis (numpy.ndarray): A 3-element array representing the rotation in angle-axis form.\n",
    "\n",
    "    Returns:\n",
    "        (numpy.ndarray): A 3x3 rotation matrix representing the same rotation as the input angle-axis.\n",
    "\n",
    "    Raises:\n",
    "        ValueError: If the input is not a valid 3-element numpy array.\n",
    "    \"\"\"\n",
    "    # Check if input is a numpy array\n",
    "    if not isinstance(angle_axis, np.ndarray):\n",
    "        raise ValueError(\"Input must be a numpy array.\")\n",
    "    \n",
    "    # Check if the input is of shape (3,)\n",
    "    if angle_axis.shape != (3,):\n",
    "        raise ValueError(\"Input must be a 3-element array representing the rotation in angle-axis representation.\")\n",
    "    \n",
    "    matrix, jacobian = cv2.Rodrigues(angle_axis)\n",
    "    return matrix"
   ]
  },
  {
   "cell_type": "code",
   "execution_count": 46,
   "id": "81ee516c-24cf-42fc-880b-11271dfdc7d1",
   "metadata": {},
   "outputs": [],
   "source": [
    "import numpy as np\n",
    "import cv2"
   ]
  },
  {
   "cell_type": "code",
   "execution_count": 47,
   "id": "c13b1b1a-a606-4262-b9f2-0125e948b390",
   "metadata": {},
   "outputs": [],
   "source": [
    "def load_arkit_poses(traj_file):\n",
    "    poses = []\n",
    "    with open(traj_file, 'r') as f:\n",
    "        for line in f:\n",
    "            tokens = line.strip().split()\n",
    "            if len(tokens) != 7:\n",
    "                continue  # skip malformed lines\n",
    "            ts = tokens[0]\n",
    "\n",
    "            # Rotation in angle axis\n",
    "            angle_axis = [float(tokens[1]), float(tokens[2]), float(tokens[3])]\n",
    "            r_w_to_p = convert_angle_axis_to_matrix3(np.asarray(angle_axis))\n",
    "\n",
    "            # Translation\n",
    "            t_w_to_p = np.asarray([float(tokens[4]), float(tokens[5]), float(tokens[6])])\n",
    "            extrinsics = np.eye(4, 4)\n",
    "            extrinsics[:3, :3] = r_w_to_p\n",
    "            extrinsics[:3, -1] = t_w_to_p\n",
    "            Rt = extrinsics\n",
    "\n",
    "            poses.append((ts, Rt))\n",
    "    return poses\n"
   ]
  },
  {
   "cell_type": "code",
   "execution_count": 48,
   "id": "d16b5c5e-6915-4194-b501-30c9e596a082",
   "metadata": {},
   "outputs": [],
   "source": [
    "# Example usage\n",
    "poses = load_arkit_poses(traj_path)"
   ]
  },
  {
   "cell_type": "code",
   "execution_count": 49,
   "id": "6303cba3-c14d-4028-a6af-318df07172d7",
   "metadata": {},
   "outputs": [],
   "source": [
    "pose = poses[243][1]"
   ]
  },
  {
   "cell_type": "code",
   "execution_count": 50,
   "id": "a3bd5601-f516-4812-b229-b56443bb417e",
   "metadata": {},
   "outputs": [
    {
     "data": {
      "text/plain": [
       "(4, 4)"
      ]
     },
     "execution_count": 50,
     "metadata": {},
     "output_type": "execute_result"
    }
   ],
   "source": [
    "pose.shape"
   ]
  },
  {
   "cell_type": "code",
   "execution_count": 51,
   "id": "c9d36c54-d898-40a2-b399-4e4b52968578",
   "metadata": {},
   "outputs": [],
   "source": [
    "import numpy as np\n",
    "def read_pincam_file(filepath):\n",
    "    with open(filepath, 'r') as f:\n",
    "        line = f.readline()\n",
    "        parts = list(map(float, line.strip().split()))\n",
    "        assert len(parts) == 6, \"Expected 6 values: WIDTH HEIGHT fx fy cx cy\"\n",
    "\n",
    "        width, height, fx, fy, cx, cy = parts\n",
    "        K = np.array([[fx, 0, cx],\n",
    "                      [0, fy, cy],\n",
    "                      [0,  0,  1]])\n",
    "\n",
    "        image_size = (int(height), int(width))  # (H, W)\n",
    "\n",
    "        return K, image_size\n"
   ]
  },
  {
   "cell_type": "code",
   "execution_count": 52,
   "id": "30b63c5d-3877-4d06-8f44-671a7d0fda2b",
   "metadata": {},
   "outputs": [],
   "source": [
    "K, image_size = read_pincam_file(intrinsic_path)"
   ]
  },
  {
   "cell_type": "code",
   "execution_count": 53,
   "id": "616c5348-07e2-44f9-aaef-236c436281d1",
   "metadata": {},
   "outputs": [
    {
     "data": {
      "text/plain": [
       "(3, 3)"
      ]
     },
     "execution_count": 53,
     "metadata": {},
     "output_type": "execute_result"
    }
   ],
   "source": [
    "K.shape"
   ]
  },
  {
   "cell_type": "code",
   "execution_count": 54,
   "id": "05ab7ed3-1f77-4f94-9ee2-e0d7c196eaa8",
   "metadata": {},
   "outputs": [],
   "source": [
    "T_lidar_to_cam = np.load(transform_path) "
   ]
  },
  {
   "cell_type": "code",
   "execution_count": 55,
   "id": "24f80152-d841-48ed-88db-51b88752b158",
   "metadata": {},
   "outputs": [
    {
     "data": {
      "text/plain": [
       "(4, 4)"
      ]
     },
     "execution_count": 55,
     "metadata": {},
     "output_type": "execute_result"
    }
   ],
   "source": [
    "T_lidar_to_cam.shape"
   ]
  },
  {
   "cell_type": "code",
   "execution_count": 56,
   "id": "d43f0143-d36d-4700-ad5d-11a58b23ed7d",
   "metadata": {},
   "outputs": [],
   "source": [
    "# read the pcd file \n",
    "pcd = o3d.io.read_point_cloud(pcd_file_path) \n",
    "points = np.asarray(pcd.points)\n",
    "colors = np.asarray(pcd.colors) \n",
    "\n",
    "# read the crop index file to crop the noisy points \n",
    "crop_index = np.load(crop_file_path) \n",
    "\n",
    "points = points[crop_index]\n",
    "colors = colors[crop_index]"
   ]
  },
  {
   "cell_type": "code",
   "execution_count": 57,
   "id": "e64f1959-bc03-4840-bb74-0a3d543a8e49",
   "metadata": {},
   "outputs": [],
   "source": [
    "def project_points_to_mask(points_lidar,colors, T_lidar_to_cam, K,pose, mask):\n",
    "    # Convert points to homogeneous\n",
    "    points_h = np.hstack([points_lidar, np.ones((points_lidar.shape[0], 1))])\n",
    "    #print(points_h.shape)\n",
    "    \n",
    "    # Transform to camera frame\n",
    "    points_cam_cord = (T_lidar_to_cam @ points_h.T).T[:, :3]\n",
    "    #points_cam = points_lidar\n",
    "    #print(points_cam.shape) \n",
    "    #pcd = o3d.geometry.PointCloud()\n",
    "    #pcd.points = o3d.utility.Vector3dVector(points_cam_cord)\n",
    "    #pcd.colors = o3d.utility.Vector3dVector(colors )\n",
    "    #o3d.visualization.draw_geometries([pcd],)\n",
    "                                  \n",
    "    # Keep points in front of camera\n",
    "    valid = points_cam_cord[:, 2] > 0\n",
    "    points_cam = points_cam_cord[valid] \n",
    "    #pcd = o3d.geometry.PointCloud()\n",
    "    #pcd.points = o3d.utility.Vector3dVector(points_cam)\n",
    "    #pcd.colors = o3d.utility.Vector3dVector(colors[valid] )\n",
    "    #o3d.visualization.draw_geometries([pcd],)\n",
    "                                  \n",
    "    #print(points_cam.shape)\n",
    "    points_lidar_cam = points_lidar[valid] \n",
    "    colors_cam = colors[valid] \n",
    "\n",
    "    #pcd = o3d.geometry.PointCloud()\n",
    "    #pcd.points = o3d.utility.Vector3dVector(points_lidar_cam)\n",
    "    #pcd.colors = o3d.utility.Vector3dVector(colors_cam )\n",
    "    #o3d.visualization.draw_geometries([pcd],)\n",
    "    \n",
    "\n",
    "    outside_cam_points = points_lidar[~valid] \n",
    "    outside_cam_colors = colors[~valid] \n",
    "\n",
    "    #pcd = o3d.geometry.PointCloud()\n",
    "    #pcd.points = o3d.utility.Vector3dVector(outside_cam_points )\n",
    "    #pcd.colors = o3d.utility.Vector3dVector(outside_cam_colors)\n",
    "    #o3d.visualization.draw_geometries([pcd],)\n",
    "    \n",
    "    \n",
    "    \n",
    "\n",
    "    #print(points_lidar.shape)\n",
    "    #print(T_lidar_to_cam.shape)\n",
    "    points_cam =  np.hstack([points_cam, np.ones((points_cam.shape[0], 1))]) \n",
    "    points_after_pose = pose @ points_cam.T\n",
    "    \n",
    "    #pcd = o3d.geometry.PointCloud()\n",
    "    #pcd.points = o3d.utility.Vector3dVector(points_after_pose.T[:, 0:3])\n",
    "    #pcd.colors = o3d.utility.Vector3dVector(colors_cam)\n",
    "    #o3d.visualization.draw_geometries([pcd],)\n",
    "    \n",
    "    \n",
    "    # Project to image plane\n",
    "    pixels = (K@ points_after_pose[0:3, :]).T \n",
    "    \n",
    "    #print(pixels.shape)\n",
    "    pixels /= pixels[:, 2:3]  # Normalize by z\n",
    "    u = pixels[:, 0].astype(int)\n",
    "    v = pixels[:, 1].astype(int)\n",
    "    #print(mask.shape)\n",
    "    H, W = mask.shape \n",
    "    inside = (u >= 0) & (u < W) & (v >= 0) & (v < H)\n",
    "    outside_mask_points = points_lidar_cam[~inside] \n",
    "    outside_mask_colors = colors_cam[~inside] \n",
    "\n",
    "    #pcd = o3d.geometry.PointCloud()\n",
    "    #pcd.points = o3d.utility.Vector3dVector(outside_mask_points)\n",
    "    #pcd.colors = o3d.utility.Vector3dVector(outside_mask_colors)\n",
    "    #o3d.visualization.draw_geometries([pcd],)\n",
    "    \n",
    "    \n",
    "    u, v = u[inside], v[inside]\n",
    "    points_lidar_mask = points_lidar_cam[inside] \n",
    "    color_mask = colors_cam[inside] \n",
    "    #n, _ = color_mask.shape\n",
    "    #color_mask = np.zeros((n, 3))\n",
    "    #print(points_lidar.shape)\n",
    "    #pcd = o3d.geometry.PointCloud()\n",
    "    #pcd.points = o3d.utility.Vector3dVector(points_lidar_mask)\n",
    "    #pcd.colors = o3d.utility.Vector3dVector(color_mask)\n",
    "    #o3d.visualization.draw_geometries([pcd],)\n",
    "        \n",
    "    return outside_cam_points, outside_mask_points, points_lidar_mask , outside_cam_colors, outside_mask_colors, color_mask\n",
    "   \n",
    "\n",
    "    "
   ]
  },
  {
   "cell_type": "code",
   "execution_count": 58,
   "id": "c6db90e8-eb45-434f-a3e3-c1bbc0b2acb4",
   "metadata": {},
   "outputs": [],
   "source": [
    "outside_cam_points, outside_mask_points, points_lidar_mask , outside_cam_colors, outside_mask_colors, color_mask = project_points_to_mask(points,colors, T_lidar_to_cam, K, pose,  mask)"
   ]
  },
  {
   "cell_type": "code",
   "execution_count": 59,
   "id": "aeb4d0de-161a-4e38-95fd-ce3a9f63efc8",
   "metadata": {},
   "outputs": [
    {
     "data": {
      "text/plain": [
       "(6010016, 3)"
      ]
     },
     "execution_count": 59,
     "metadata": {},
     "output_type": "execute_result"
    }
   ],
   "source": [
    "points.shape"
   ]
  },
  {
   "cell_type": "code",
   "execution_count": 60,
   "id": "e3349852-963f-4a1a-8133-a85b764dc1b7",
   "metadata": {},
   "outputs": [
    {
     "data": {
      "text/plain": [
       "(6010016, 3)"
      ]
     },
     "execution_count": 60,
     "metadata": {},
     "output_type": "execute_result"
    }
   ],
   "source": [
    "colors.shape"
   ]
  },
  {
   "cell_type": "code",
   "execution_count": 61,
   "id": "908fe142-d55a-457d-bb04-5a27a9049dc7",
   "metadata": {},
   "outputs": [],
   "source": [
    "new_points = np.vstack((outside_cam_points, outside_mask_points, points_lidar_mask))\n",
    "new_colors = np.vstack((outside_cam_colors, outside_mask_colors, color_mask))"
   ]
  },
  {
   "cell_type": "code",
   "execution_count": 62,
   "id": "9a8a0e4d-6188-4259-bcad-95c359f39bcc",
   "metadata": {},
   "outputs": [
    {
     "data": {
      "text/plain": [
       "(6010016, 3)"
      ]
     },
     "execution_count": 62,
     "metadata": {},
     "output_type": "execute_result"
    }
   ],
   "source": [
    "new_points.shape"
   ]
  },
  {
   "cell_type": "code",
   "execution_count": 63,
   "id": "82225653-748c-41df-b590-6f5f77aa83a0",
   "metadata": {},
   "outputs": [
    {
     "data": {
      "text/plain": [
       "(6010016, 3)"
      ]
     },
     "execution_count": 63,
     "metadata": {},
     "output_type": "execute_result"
    }
   ],
   "source": [
    "colors.shape"
   ]
  },
  {
   "cell_type": "code",
   "execution_count": 64,
   "id": "7d735092-d24a-432d-a69b-2649c3398572",
   "metadata": {},
   "outputs": [
    {
     "data": {
      "text/plain": [
       "array([[-7.26001918e-01,  3.36170167e-01,  3.94974915e+02],\n",
       "       [-7.30261028e-01,  3.31226021e-01,  3.94589935e+02],\n",
       "       [-7.33365238e-01,  3.30598325e-01,  3.94799408e+02],\n",
       "       ...,\n",
       "       [-2.75541246e-02, -6.08261061e+00,  3.94089539e+02],\n",
       "       [ 2.49890423e+00,  7.95314372e-01,  3.95368774e+02],\n",
       "       [ 2.92300129e+00,  1.32856464e+00,  3.95362732e+02]])"
      ]
     },
     "execution_count": 64,
     "metadata": {},
     "output_type": "execute_result"
    }
   ],
   "source": [
    " points_lidar_mask"
   ]
  },
  {
   "cell_type": "code",
   "execution_count": 65,
   "id": "e768b723-9d7c-4a86-ae12-0b436ff0d4af",
   "metadata": {},
   "outputs": [
    {
     "data": {
      "text/plain": [
       "array([[0.59607843, 0.5254902 , 0.48627451],\n",
       "       [0.65098039, 0.57647059, 0.57647059],\n",
       "       [0.59607843, 0.50588235, 0.53333333],\n",
       "       ...,\n",
       "       [0.30980392, 0.30980392, 0.30980392],\n",
       "       [0.85490196, 0.85490196, 0.85490196],\n",
       "       [0.76470588, 0.76470588, 0.76470588]])"
      ]
     },
     "execution_count": 65,
     "metadata": {},
     "output_type": "execute_result"
    }
   ],
   "source": [
    "color_mask"
   ]
  },
  {
   "cell_type": "code",
   "execution_count": 66,
   "id": "e26cf2c9-2669-41f1-a850-5867bc8d268f",
   "metadata": {},
   "outputs": [],
   "source": [
    "pcd = o3d.geometry.PointCloud()\n",
    "pcd.points = o3d.utility.Vector3dVector(new_points)\n",
    "pcd.colors = o3d.utility.Vector3dVector(new_colors )"
   ]
  },
  {
   "cell_type": "code",
   "execution_count": 67,
   "id": "f5499d53-3cf9-44d9-9e55-6f81febafdc0",
   "metadata": {},
   "outputs": [],
   "source": [
    "o3d.visualization.draw_geometries([pcd],\n",
    "                                  )"
   ]
  },
  {
   "cell_type": "code",
   "execution_count": 69,
   "id": "1252551e-397e-4caa-b178-bb6262811652",
   "metadata": {},
   "outputs": [
    {
     "data": {
      "text/plain": [
       "array([[1., 1., 1.],\n",
       "       [1., 1., 1.],\n",
       "       [1., 1., 1.]])"
      ]
     },
     "execution_count": 69,
     "metadata": {},
     "output_type": "execute_result"
    }
   ],
   "source": [
    "np.ones((3,3))"
   ]
  },
  {
   "cell_type": "code",
   "execution_count": 98,
   "id": "aafc0483-65c4-4fe0-85dd-0b5bf4c37cf0",
   "metadata": {},
   "outputs": [],
   "source": [
    "a = np.array([1,2,3])\n"
   ]
  },
  {
   "cell_type": "code",
   "execution_count": 100,
   "id": "778459ca-db56-4b8f-8680-2924a7e3ab45",
   "metadata": {},
   "outputs": [
    {
     "data": {
      "text/plain": [
       "array([1, 3])"
      ]
     },
     "execution_count": 100,
     "metadata": {},
     "output_type": "execute_result"
    }
   ],
   "source": []
  },
  {
   "cell_type": "code",
   "execution_count": null,
   "id": "ee4c459e-5003-4618-888c-d1e3b1a77f4a",
   "metadata": {},
   "outputs": [],
   "source": []
  }
 ],
 "metadata": {
  "kernelspec": {
   "display_name": "Python 3 (ipykernel)",
   "language": "python",
   "name": "python3"
  },
  "language_info": {
   "codemirror_mode": {
    "name": "ipython",
    "version": 3
   },
   "file_extension": ".py",
   "mimetype": "text/x-python",
   "name": "python",
   "nbconvert_exporter": "python",
   "pygments_lexer": "ipython3",
   "version": "3.12.7"
  }
 },
 "nbformat": 4,
 "nbformat_minor": 5
}
